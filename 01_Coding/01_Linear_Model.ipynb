{
 "cells": [
  {
   "cell_type": "markdown",
   "id": "7278c92b",
   "metadata": {},
   "source": [
    "# 线性模型（Linear model）\n"
   ]
  },
  {
   "cell_type": "code",
   "execution_count": 3,
   "id": "df9ee97c",
   "metadata": {},
   "outputs": [],
   "source": [
    "import numpy as np\n",
    "import matplotlib.pyplot as plt\n"
   ]
  },
  {
   "cell_type": "markdown",
   "id": "8279f732",
   "metadata": {},
   "source": [
    "下面为训练的数据"
   ]
  },
  {
   "cell_type": "code",
   "execution_count": 4,
   "id": "05d729d6",
   "metadata": {},
   "outputs": [],
   "source": [
    "x_data = [1.0, 2.0, 3.0]\n",
    "y_data = [2.0, 4.0, 6.0]\n"
   ]
  },
  {
   "cell_type": "markdown",
   "id": "be717b40",
   "metadata": {},
   "source": [
    "## 模型建立\n",
    "定义的函数，即前馈网络（网络的模型）"
   ]
  },
  {
   "cell_type": "code",
   "execution_count": 5,
   "id": "1178c6a4",
   "metadata": {},
   "outputs": [],
   "source": [
    "def forward(x):\n",
    "    return x * w\n"
   ]
  },
  {
   "cell_type": "markdown",
   "id": "08dff80b",
   "metadata": {},
   "source": [
    "## Loss函数，并计算出error\n",
    "MSE（mean square error）\n"
   ]
  },
  {
   "cell_type": "code",
   "execution_count": 7,
   "id": "32a4841f",
   "metadata": {},
   "outputs": [],
   "source": [
    "def loss(x, y):\n",
    "    y_perd = forward(x)\n",
    "    return (y_perd - y) ** 2\n"
   ]
  },
  {
   "cell_type": "markdown",
   "id": "aadab006",
   "metadata": {},
   "source": [
    "weight and the value of MSE in loss function"
   ]
  },
  {
   "cell_type": "code",
   "execution_count": 8,
   "id": "b861e877",
   "metadata": {},
   "outputs": [],
   "source": [
    "w_list = []\n",
    "mse_list = []"
   ]
  },
  {
   "cell_type": "markdown",
   "id": "74837b93",
   "metadata": {},
   "source": [
    "## optimization\n",
    "setting the pace of learning\n",
    "暴力算法/穷举例"
   ]
  },
  {
   "cell_type": "code",
   "execution_count": null,
   "id": "b26972ac",
   "metadata": {},
   "outputs": [],
   "source": [
    "for w in np.arange(0.0, 4.1, 0.1):  # 注意！这里的w对于forward里的w是全局变量\n",
    "    print('w=', w)\n",
    "    l_sum = 0\n",
    "\n",
    "    # 分组抽出训练数据，并计算在不同weight下的loss函数。   zip:分组抽出，并进行遍历\n",
    "    for x_val, y_val in zip(x_data, y_data):\n",
    "        y_perd_val = forward(x_val)\n",
    "        loss_val = loss(x_val, y_val)\n",
    "        l_sum += loss_val\n",
    "        print('/t', x_val, y_val, y_perd_val, loss_val)\n",
    "        \n",
    "    print('MSE=', l_sum)\n",
    "    w_list.append(w)\n",
    "    mse_list.append(l_sum / 3)\n",
    "    "
   ]
  },
  {
   "cell_type": "markdown",
   "id": "b6a84136",
   "metadata": {},
   "source": [
    "画出weight与loss的热点图"
   ]
  },
  {
   "cell_type": "code",
   "execution_count": 10,
   "id": "eb1f93cc",
   "metadata": {},
   "outputs": [
    {
     "data": {
      "image/png": "[encoded data removed]",
      "text/plain": [
       "<Figure size 432x288 with 1 Axes>"
      ]
     },
     "metadata": {
      "needs_background": "light"
     },
     "output_type": "display_data"
    }
   ],
   "source": [
    "plt.plot(w_list,mse_list)\n",
    "plt.ylabel('Loss')\n",
    "plt.xlabel('w')\n",
    "plt.show()\n"
   ]
  }
 ],
 "metadata": {
  "kernelspec": {
   "display_name": "Python 3 (ipykernel)",
   "language": "python",
   "name": "python3"
  },
  "language_info": {
   "codemirror_mode": {
    "name": "ipython",
    "version": 3
   },
   "file_extension": ".py",
   "mimetype": "text/x-python",
   "name": "python",
   "nbconvert_exporter": "python",
   "pygments_lexer": "ipython3",
   "version": "3.9.7"
  }
 },
 "nbformat": 4,
 "nbformat_minor": 5
}
