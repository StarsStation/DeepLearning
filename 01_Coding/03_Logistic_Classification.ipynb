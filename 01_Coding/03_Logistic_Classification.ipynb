{
 "cells": [
  {
   "cell_type": "markdown",
   "id": "684abdda",
   "metadata": {},
   "source": [
    "# Logistic_Classification\n",
    "\n",
    "用pytorch构建sigmoid函数构成的简单分类模型"
   ]
  },
  {
   "cell_type": "markdown",
   "id": "eba17ff1",
   "metadata": {},
   "source": [
    "## Prepare dataset\n",
    "\n",
    "准备数据集"
   ]
  },
  {
   "cell_type": "code",
   "execution_count": 1,
   "id": "b237b2bd",
   "metadata": {},
   "outputs": [],
   "source": [
    "import torch\n",
    "# 导入sigmoid函数\n",
    "import torch.nn.functional as F\n",
    "import numpy as np\n",
    "import matplotlib.pyplot as plt\n",
    "\n",
    "# 最基本的二分类数据\n",
    "x_data = torch.Tensor([[1.0],[2.0],[3.0]])\n",
    "y_data = torch.Tensor([[0],[0],[1]])\n"
   ]
  },
  {
   "cell_type": "markdown",
   "id": "44bce2aa",
   "metadata": {},
   "source": [
    "## Design model using Class\n",
    "\n",
    "设计相关的模型，这里使用的是sigmoid函数\n"
   ]
  },
  {
   "cell_type": "code",
   "execution_count": 2,
   "id": "f7760ce9",
   "metadata": {},
   "outputs": [],
   "source": [
    "# 继承内置的类，这个类\n",
    "class LogisticRegresssionModel(torch.nn.Module):\n",
    "    def __init__(self):\n",
    "        # 调用父类的构造的init\n",
    "        super(LogisticRegresssionModel, self).__init__()\n",
    "         \n",
    "        # 构造一个对象\n",
    "        # 将线性模型的输出，输入维度（列数）都设为1，并且设置bias=True（默认就为真）；会自动进行backward等的操作\n",
    "        self.linear = torch.nn.Linear(1, 1)\n",
    "        \n",
    "    def forward(self, x):\n",
    "        # 即直接调用类中创建的linear，即这个函数使用了call方法；因此可以直接使用LogisticRegresssionModel（x）\n",
    "        # x 就会直接传入forward中\n",
    "        # 使用sigmoid函数\n",
    "        y_perd = F.sigmoid(self.linear(x))\n",
    "        return y_perd\n",
    "\n",
    "# 调用\n",
    "model = LogisticRegresssionModel()\n"
   ]
  },
  {
   "cell_type": "markdown",
   "id": "1a899f59",
   "metadata": {},
   "source": [
    "## Construct loss and optimizer\n",
    "\n",
    "直接使用PyTorch的API就好"
   ]
  },
  {
   "cell_type": "code",
   "execution_count": 3,
   "id": "d2e40eb2",
   "metadata": {},
   "outputs": [],
   "source": [
    "# BCE,运用二分类概率相关的loss，具体数学过程略\n",
    "criterion = torch.nn.BCELoss(reduction='sum')\n",
    "\n",
    "# 优化（随机梯度下降）\n",
    "# 作用是找到所有的变量（自动检查），并且设置学习速率\n",
    "# 可以使用.Adam .RMSprop 等等的方法\n",
    "optimizer = torch.optim.SGD(model.parameters(), lr=0.01)\n"
   ]
  },
  {
   "cell_type": "markdown",
   "id": "7a909f05",
   "metadata": {},
   "source": [
    "## Training cycle\n",
    "\n",
    "进行前馈，反向传播，更新的训练过程\n"
   ]
  },
  {
   "cell_type": "code",
   "execution_count": null,
   "id": "654abba7",
   "metadata": {},
   "outputs": [],
   "source": [
    "epoch_list = []\n",
    "loss_list = []\n",
    "\n",
    "for epoch in range(500):\n",
    "    # forward\n",
    "    y_perd = model(x_data)\n",
    "    \n",
    "    # 计算loss\n",
    "    loss = criterion(y_perd, y_data)\n",
    "    \n",
    "    print(epoch, loss.item()) # .item 直接取出，将其变为标量\n",
    "    epoch_list.append(epoch)\n",
    "    loss_list.append(loss.item())\n",
    "    \n",
    "    # 每一轮训练的时候先将梯度归零\n",
    "    optimizer.zero_grad()\n",
    "    \n",
    "    # backward\n",
    "    loss.backward()\n",
    "    \n",
    "    # update\n",
    "    optimizer.step()\n",
    "\n",
    "print('w= ', model.linear.weight.item())\n",
    "print('b= ', model.linear.bias.item())\n"
   ]
  },
  {
   "cell_type": "code",
   "execution_count": 5,
   "id": "020755c1",
   "metadata": {},
   "outputs": [
    {
     "data": {
      "image/png": "[encoded data removed]",
      "text/plain": [
       "<Figure size 432x288 with 1 Axes>"
      ]
     },
     "metadata": {
      "needs_background": "light"
     },
     "output_type": "display_data"
    }
   ],
   "source": [
    "plt.plot(epoch_list, loss_list)\n",
    "plt.ylabel('Loss')\n",
    "plt.xlabel('Epoch')\n",
    "plt.show()"
   ]
  },
  {
   "cell_type": "code",
   "execution_count": 6,
   "id": "87c720a8",
   "metadata": {},
   "outputs": [
    {
     "data": {
      "image/png": "[encoded data removed]",
      "text/plain": [
       "<Figure size 432x288 with 1 Axes>"
      ]
     },
     "metadata": {
      "needs_background": "light"
     },
     "output_type": "display_data"
    }
   ],
   "source": [
    "x = np.linspace(0, 10, 200)\n",
    "x_t = torch.Tensor(x).view((200, 1))\n",
    "y_t = model(x_t)\n",
    "y = y_t.data.numpy()\n",
    "plt.plot(x, y)\n",
    "plt.plot([1, 10], [0.5, 0.5], c='r')\n",
    "plt.xlabel('Hours')\n",
    "plt.ylabel('Probability')\n",
    "plt.grid()\n",
    "plt.show()"
   ]
  }
 ],
 "metadata": {
  "kernelspec": {
   "display_name": "Python 3 (ipykernel)",
   "language": "python",
   "name": "python3"
  },
  "language_info": {
   "codemirror_mode": {
    "name": "ipython",
    "version": 3
   },
   "file_extension": ".py",
   "mimetype": "text/x-python",
   "name": "python",
   "nbconvert_exporter": "python",
   "pygments_lexer": "ipython3",
   "version": "3.9.7"
  }
 },
 "nbformat": 4,
 "nbformat_minor": 5
}
