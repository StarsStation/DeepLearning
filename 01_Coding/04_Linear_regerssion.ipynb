{
 "cells": [
  {
   "cell_type": "markdown",
   "id": "684abdda",
   "metadata": {},
   "source": [
    "# 线性回归 - Pytorch的实现\n",
    "\n",
    "用pytorch构建基本的线性回归模型，并为之后的网络构建打下基础\n"
   ]
  },
  {
   "cell_type": "markdown",
   "id": "eba17ff1",
   "metadata": {},
   "source": [
    "## Prepare dataset\n",
    "\n",
    "准备数据集\n"
   ]
  },
  {
   "cell_type": "code",
   "execution_count": 1,
   "id": "b237b2bd",
   "metadata": {},
   "outputs": [],
   "source": [
    "import torch\n",
    "import numpy as np\n",
    "import matplotlib.pyplot as plt\n",
    "\n",
    "x_data = torch.Tensor([[1.0],[2.0],[3.0]])\n",
    "y_data = torch.Tensor([[2.0],[4.0],[6.0]])\n"
   ]
  },
  {
   "cell_type": "markdown",
   "id": "44bce2aa",
   "metadata": {},
   "source": [
    "## Design model using Class\n",
    "\n",
    "设计相关的模型，这里使用的是内置的nn模型\n",
    "\n",
    "这部分将是以后设计网络的重要基础\n"
   ]
  },
  {
   "cell_type": "code",
   "execution_count": 4,
   "id": "f7760ce9",
   "metadata": {},
   "outputs": [],
   "source": [
    "# 继承内置torch.nn.Module的类\n",
    "class LinearModel(torch.nn.Module):\n",
    "    # 默认调用的函数\n",
    "    def __init__(self):\n",
    "        \n",
    "        # 调用父类（torch.nn.Module）的构造的init\n",
    "        super(LinearModel, self).__init__()\n",
    "         \n",
    "        # 构造一个对象，直接就包含了 w, b \n",
    "        # lineard 的参数（in_feature, out_feature, bias=True）\n",
    "        # 将线性模型的输出，输入维度（列数）都设为1，并且设置 bias=True（默认就为真）；会自动进行backward等的操作\n",
    "        self.linear = torch.nn.Linear(1, 1)\n",
    "        \n",
    "    def forward(self, x):\n",
    "        # 即直接调用类中创建的linear，即这个函数使用了call方法；因此可以直接使用LinearModel（x）\n",
    "        y_perd = self.linear(x)\n",
    "        return y_perd\n",
    "\n",
    "# 调用\n",
    "model = LinearModel()\n"
   ]
  },
  {
   "cell_type": "markdown",
   "id": "1a899f59",
   "metadata": {},
   "source": [
    "## Construct loss and optimizer\n",
    "\n",
    "直接使用PyTorch的API就好"
   ]
  },
  {
   "cell_type": "code",
   "execution_count": 8,
   "id": "d2e40eb2",
   "metadata": {},
   "outputs": [],
   "source": [
    "# MSE,但不求平均值，并默认自动转为标量；其也是继承自nn里面的对象\n",
    "# 并且不求均值，因为每个batch的数量是一样的\n",
    "criterion = torch.nn.MSELoss(reduction='sum')\n",
    "\n",
    "# 优化 随机梯度下降\n",
    "# 作用是找到所有的需要训练的变量（自动检查），并且设置学习速率\n",
    "# 可以使用.Adam .RMSprop 等等的方法\n",
    "\n",
    "optimizer = torch.optim.SGD(model.parameters(), lr=0.01)\n"
   ]
  },
  {
   "cell_type": "markdown",
   "id": "7a909f05",
   "metadata": {},
   "source": [
    "## Training cycle\n",
    "\n",
    "进行前馈，反向传播，更新的训练过程\n"
   ]
  },
  {
   "cell_type": "code",
   "execution_count": null,
   "id": "654abba7",
   "metadata": {},
   "outputs": [],
   "source": [
    "epoch_list = []\n",
    "loss_list = []\n",
    "\n",
    "for epoch in range(500):\n",
    "    # forward\n",
    "    y_perd = model(x_data)\n",
    "    \n",
    "    # 计算loss\n",
    "    loss = criterion(y_perd, y_data)\n",
    "    \n",
    "    print(epoch, loss.item())\n",
    "    epoch_list.append(epoch)\n",
    "    loss_list.append(loss.item())\n",
    "    \n",
    "    # 每一次训练将梯度归零\n",
    "    optimizer.zero_grad()\n",
    "    \n",
    "    # backward（计算每一个节点的梯度，计算图就会释放）\n",
    "    loss.backward()\n",
    "    \n",
    "    # update\n",
    "    optimizer.step()\n",
    "\n",
    "print('w= ', model.linear.weight.item())\n",
    "print('b= ', model.linear.bias.item())\n"
   ]
  },
  {
   "cell_type": "code",
   "execution_count": 11,
   "id": "020755c1",
   "metadata": {},
   "outputs": [
    {
     "data": {
      "image/png": "[encoded data removed]",
      "text/plain": [
       "<Figure size 432x288 with 1 Axes>"
      ]
     },
     "metadata": {
      "needs_background": "light"
     },
     "output_type": "display_data"
    }
   ],
   "source": [
    "plt.plot(epoch_list, loss_list)\n",
    "plt.ylabel('Loss')\n",
    "plt.xlabel('Epoch')\n",
    "plt.show()"
   ]
  }
 ],
 "metadata": {
  "kernelspec": {
   "display_name": "Python 3 (ipykernel)",
   "language": "python",
   "name": "python3"
  },
  "language_info": {
   "codemirror_mode": {
    "name": "ipython",
    "version": 3
   },
   "file_extension": ".py",
   "mimetype": "text/x-python",
   "name": "python",
   "nbconvert_exporter": "python",
   "pygments_lexer": "ipython3",
   "version": "3.9.7"
  }
 },
 "nbformat": 4,
 "nbformat_minor": 5
}
