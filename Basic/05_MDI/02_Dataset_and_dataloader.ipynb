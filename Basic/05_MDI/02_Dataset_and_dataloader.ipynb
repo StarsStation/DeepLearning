{
 "cells": [
  {
   "cell_type": "markdown",
   "id": "684abdda",
   "metadata": {},
   "source": [
    "# Dataset_and_dataloader\n",
    "\n",
    "将多维度的数据（数据的多个Feature）作为输入"
   ]
  },
  {
   "cell_type": "code",
   "execution_count": 6,
   "id": "b237b2bd",
   "metadata": {},
   "outputs": [],
   "source": [
    "import torch\n",
    "import numpy as np\n",
    "\n",
    "# dataset抽象的类不可实例, DataLoader可以\n",
    "from torch.utils.data import Dataset, DataLoader\n",
    "\n",
    "import matplotlib.pyplot as plt\n"
   ]
  },
  {
   "cell_type": "markdown",
   "id": "eba17ff1",
   "metadata": {},
   "source": [
    "## Prepare dataset\n",
    "\n",
    "此次实验主要重点在数据的相关准备，并使用mini- batch\n"
   ]
  },
  {
   "cell_type": "code",
   "execution_count": 7,
   "id": "6ffba57d",
   "metadata": {},
   "outputs": [],
   "source": [
    "# 建立处理数据的类\n",
    "# Dataset 是抽象的类，只能被继承\n",
    "class DiabetesDataset(Dataset):\n",
    "    def __init__(self, filepath):\n",
    "        xy = np.loadtxt(filepath, delimiter=',', dtype=np.float32)\n",
    "        \n",
    "        # 获取数据的数量\n",
    "        self.len = xy.shape[0]\n",
    "        \n",
    "        self.x_data = torch.from_numpy(xy[:, :-1])\n",
    "        self.y_data = torch.from_numpy(xy[:, [-1]])\n",
    "    \n",
    "    # 使数据可以通过下标直接使用；返回数据样本，就直接根据索引指出就好\n",
    "    def __getitem__(self, index):\n",
    "        return self.x_data[index], self.y_data[index]\n",
    "\n",
    "    def __len__(self):\n",
    "        return self.len\n",
    "\n",
    "dataset = DiabetesDataset('diabetes.csv.gz') \n",
    "\n",
    "# DataLoader就可以对数据进行处理，其是pytorch对数据处理的相关函数\n",
    "train_loader = DataLoader(dataset=dataset,\n",
    "                          batch_size=32,\n",
    "                          shuffle=True,\n",
    "                          num_workers=2) # 是否多线程"
   ]
  },
  {
   "cell_type": "markdown",
   "id": "44bce2aa",
   "metadata": {},
   "source": [
    "## Design model using Class\n",
    "\n",
    "设计相关的模型，这里的网络模型是8维-6维-4维-1维\n"
   ]
  },
  {
   "cell_type": "code",
   "execution_count": 8,
   "id": "f7760ce9",
   "metadata": {},
   "outputs": [],
   "source": [
    "# 继承内置的类，这个类\n",
    "class Model(torch.nn.Module):\n",
    "    def __init__(self):\n",
    "        # 调用父类的构造的init\n",
    "        super(Model, self).__init__()\n",
    "         \n",
    "        # 构造网络\n",
    "        # 实现 8维-6维-4维-1维 的过程\n",
    "        self.linear1 = torch.nn.Linear(8, 6)\n",
    "        self.linear2 = torch.nn.Linear(6, 4)        \n",
    "        self.linear3 = torch.nn.Linear(4, 1)        \n",
    "        self.sigmoid = torch.nn.Sigmoid()  \n",
    "        \n",
    "        # 可以尝试不同的activate function\n",
    "        # self.activate = torch.nn.ReLU()\n",
    "        \n",
    "    def forward(self, x):\n",
    "        # 即直接调用类中创建的linear，即这个函数使用了call方法；因此可以直接使用LogisticRegresssionModel（x）\n",
    "        # 使用sigmoid函数\n",
    "        x = self.sigmoid(self.linear1(x))\n",
    "        x = self.sigmoid(self.linear2(x))\n",
    "        x = self.sigmoid(self.linear3(x))\n",
    "        return x\n",
    "        \n",
    "        # x 就可以变为self.activate(self.linear1(x))\n",
    "        # 并最后可以用x = self.sigmoid(self.linear3(x))来控制输出\n",
    "\n",
    "# 调用\n",
    "model = Model()\n"
   ]
  },
  {
   "cell_type": "markdown",
   "id": "1a899f59",
   "metadata": {},
   "source": [
    "## Construct loss and optimizer\n",
    "\n",
    "直接使用PyTorch的API就好"
   ]
  },
  {
   "cell_type": "code",
   "execution_count": 9,
   "id": "d2e40eb2",
   "metadata": {},
   "outputs": [],
   "source": [
    "# BCE,概率相关的loss，具体数学过程略\n",
    "criterion = torch.nn.BCELoss(reduction='sum')\n",
    "\n",
    "# 优化（随机梯度下降）\n",
    "# 作用是找到所有的变量（自动检查），并且设置学习速率\n",
    "# 可以使用.Adam .RMSprop 等等的方法\n",
    "optimizer = torch.optim.SGD(model.parameters(), lr=0.001)\n"
   ]
  },
  {
   "cell_type": "markdown",
   "id": "7a909f05",
   "metadata": {},
   "source": [
    "## Training cycle\n",
    "\n",
    "进行前馈，反向传播，更新的训练过程\n"
   ]
  },
  {
   "cell_type": "code",
   "execution_count": null,
   "id": "e3ded1bd",
   "metadata": {
    "scrolled": true
   },
   "outputs": [],
   "source": [
    "if __name__ == '__main__':\n",
    "    for epoch in range(100):\n",
    "        for i, data in enumerate(train_loader, 0):\n",
    "        # 1. Prepare data\n",
    "            inputs, labels = data\n",
    "        # 2. Forward \n",
    "            y_pred = model(inputs) \n",
    "            loss = criterion(y_pred, labels) \n",
    "            print(epoch, i, loss.item()) \n",
    "        # 3. Backward optimizer.zero_grad() \n",
    "            loss.backward() \n",
    "        # 4. Update \n",
    "            optimizer.step()"
   ]
  },
  {
   "cell_type": "code",
   "execution_count": null,
   "id": "654abba7",
   "metadata": {},
   "outputs": [],
   "source": [
    "batch_list = []\n",
    "loss_list = []\n",
    "\n",
    "batch_num = 1\n",
    "\n",
    "for epoch in range(200):\n",
    "    \n",
    "    # 每次提取出每个batch(x, y)\n",
    "    for i, data in enumerate(train_loader, 0):\n",
    "        inputs, labels = data\n",
    "        \n",
    "        # forward\n",
    "        # 这里是一次性将数据送入，使用 mini- batch\n",
    "        y_perd = model(inputs)\n",
    "        # 计算loss\n",
    "        loss = criterion(y_perd, labels)\n",
    "\n",
    "        batch_list.append(batch_num)\n",
    "        batch_num+=1\n",
    "        \n",
    "        print(epoch, loss.item())\n",
    "        loss_list.append(loss.item())\n",
    "\n",
    "        # backward\n",
    "        # 训练的时候先将梯度归零\n",
    "        optimizer.zero_grad()\n",
    "        loss.backward()\n",
    "\n",
    "        # update\n",
    "        optimizer.step()"
   ]
  },
  {
   "cell_type": "code",
   "execution_count": 7,
   "id": "020755c1",
   "metadata": {},
   "outputs": [
    {
     "data": {
      "image/png": "[encoded data removed]",
      "text/plain": [
       "<Figure size 432x288 with 1 Axes>"
      ]
     },
     "metadata": {
      "needs_background": "light"
     },
     "output_type": "display_data"
    }
   ],
   "source": [
    "plt.plot(batch_list, loss_list)\n",
    "plt.ylabel('Loss')\n",
    "plt.xlabel('Batch')\n",
    "plt.show()"
   ]
  },
  {
   "cell_type": "markdown",
   "id": "53106989",
   "metadata": {},
   "source": [
    "最后结果分析：此次模型最后的loss很奇怪，先降低，后升高，又降低，具体原因以后在继续探究"
   ]
  }
 ],
 "metadata": {
  "kernelspec": {
   "display_name": "Python 3 (ipykernel)",
   "language": "python",
   "name": "python3"
  },
  "language_info": {
   "codemirror_mode": {
    "name": "ipython",
    "version": 3
   },
   "file_extension": ".py",
   "mimetype": "text/x-python",
   "name": "python",
   "nbconvert_exporter": "python",
   "pygments_lexer": "ipython3",
   "version": "3.9.7"
  }
 },
 "nbformat": 4,
 "nbformat_minor": 5
}
