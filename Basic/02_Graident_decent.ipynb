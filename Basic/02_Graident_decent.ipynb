{
 "cells": [
  {
   "cell_type": "markdown",
   "id": "7474da28",
   "metadata": {},
   "source": [
    "# Graident decent 梯度下降\n",
    "\n",
    "## Batch为全体数据\n",
    "梯度下降的实现"
   ]
  },
  {
   "cell_type": "code",
   "execution_count": 1,
   "id": "0eb81260",
   "metadata": {},
   "outputs": [],
   "source": [
    "import numpy as np\n",
    "import matplotlib.pyplot as plt\n",
    "import random\n",
    "\n",
    "x_data = [1.0, 2.0, 3.0]\n",
    "y_data = [2.0, 4.0, 6.0]"
   ]
  },
  {
   "cell_type": "markdown",
   "id": "8784f7e1",
   "metadata": {},
   "source": [
    "### 建立模型\n",
    "\n",
    "依然使用线性模型\n"
   ]
  },
  {
   "cell_type": "code",
   "execution_count": 2,
   "id": "5eb269c4",
   "metadata": {},
   "outputs": [
    {
     "name": "stdout",
     "output_type": "stream",
     "text": [
      "w =  3.1\n"
     ]
    }
   ],
   "source": [
    "# 随机在指定区间选择一个数字用来计算其梯度，此时的W是全局变量\n",
    "# w = random.uniform(0.0,4.1)\n",
    "w = 3.1\n",
    "print('w = ',w)\n",
    "\n",
    "def forward(x):\n",
    "    return x*w"
   ]
  },
  {
   "cell_type": "markdown",
   "id": "12efef05",
   "metadata": {},
   "source": [
    "### Loss函数，并计算出MSE\n",
    "\n",
    "> ！！注：MSE是**全部训练数据**Loss的平均值，下面会有随机梯度下降的例子"
   ]
  },
  {
   "cell_type": "code",
   "execution_count": 10,
   "id": "d0e80f11",
   "metadata": {},
   "outputs": [],
   "source": [
    "# 定义loss函数，计算出对应w值其的error\n",
    "# 其cost是每轮\n",
    "\n",
    "def mse(xs, ys):\n",
    "    cost = 0\n",
    "    for x, y in zip(xs, ys):\n",
    "        y_perd = forward(x)\n",
    "        cost += (y_perd - y)**2\n",
    "    return cost/len(xs)"
   ]
  },
  {
   "cell_type": "markdown",
   "id": "5bcad1b9",
   "metadata": {},
   "source": [
    "### Optimization\n",
    "运用梯度下降法进行优化\n",
    "\n",
    "进一步解释就是，不同的w是会有不同的MSE，可以根据随机选的w来计算其所在的MSE上的梯度\n"
   ]
  },
  {
   "cell_type": "code",
   "execution_count": 11,
   "id": "5d86b524",
   "metadata": {},
   "outputs": [],
   "source": [
    "# 计算w在对应点的梯度（公式涉及相关数学知识，略；并且是平均的梯度）\n",
    "def gradient(xs, ys):\n",
    "    grad = 0\n",
    "    for x, y in zip(xs, ys):\n",
    "        grad += 2*x*(x*w-y)\n",
    "    return grad/len(xs)"
   ]
  },
  {
   "cell_type": "markdown",
   "id": "69f29866",
   "metadata": {},
   "source": [
    "### Main 函数"
   ]
  },
  {
   "cell_type": "code",
   "execution_count": null,
   "id": "b5483053",
   "metadata": {},
   "outputs": [],
   "source": [
    "# 建立两个数组储存相关数据\n",
    "loss_list = []\n",
    "epoch_list = []\n",
    "\n",
    "# 进行100次更新，即100次训练\n",
    "print('predict before training', 4, forward(4))\n",
    "for epoch in range(100):\n",
    "    epoch_list.append(epoch)\n",
    "    \n",
    "    # 每一次循环将全部的数据录入\n",
    "    mse_val = mse(x_data, y_data)\n",
    "    loss_list.append(mse_val)\n",
    "    \n",
    "    grad_val = gradient(x_data, y_data)\n",
    "    \n",
    "    # 注意！！ 这里的0.01(learning rate)是 hyperparameter\n",
    "    # 有时候不能取太大，训练多次loss可能会上升\n",
    "    # 根据定义更新w的数值\n",
    "    w -= 0.01* grad_val\n",
    "\n",
    "    print('Epoch:', epoch, ' w=:', w, ' loss=', mse_val)\n",
    "\n",
    "print('predict after training', 4, forward(4))"
   ]
  },
  {
   "cell_type": "code",
   "execution_count": 13,
   "id": "9317945e",
   "metadata": {},
   "outputs": [
    {
     "data": {
      "image/png": "[encoded data removed]",
      "text/plain": [
       "<Figure size 432x288 with 1 Axes>"
      ]
     },
     "metadata": {
      "needs_background": "light"
     },
     "output_type": "display_data"
    }
   ],
   "source": [
    "plt.plot(epoch_list, loss_list)\n",
    "plt.ylabel('Loss')\n",
    "plt.xlabel('epoch')\n",
    "plt.show()"
   ]
  },
  {
   "cell_type": "markdown",
   "id": "259c7e7b",
   "metadata": {},
   "source": [
    "\n",
    "## 随机梯度下降，设置Batch size\n",
    "\n",
    "每次用随机的 **一个样本！！** 的的loss进行更新\n",
    "\n",
    "但不能进行并行计算，时间的复杂度比较高\n",
    "\n",
    "因此可以设置对应的 batch size 进行训练，进行折中\n"
   ]
  },
  {
   "cell_type": "code",
   "execution_count": 3,
   "id": "f5863144",
   "metadata": {},
   "outputs": [],
   "source": [
    "def loss(x,y):\n",
    "    y_perd = forward(x)\n",
    "    \n",
    "    # 只用一组的loss就进行参数的更新\n",
    "    return (y_perd - y)**2\n",
    "\n",
    "def gradient_ar(x, y):\n",
    "    return 2*x*(x*w - y)"
   ]
  },
  {
   "cell_type": "code",
   "execution_count": null,
   "id": "b7cfa5f9",
   "metadata": {},
   "outputs": [],
   "source": [
    "# 建立两个数组储存相关数据\n",
    "loss_list = []\n",
    "epoch_list = []\n",
    "num = 0\n",
    "\n",
    "# 进行100次更新，即100次训练 \n",
    "print('predict before training', 4, forward(4))\n",
    "for epoch in range(100):\n",
    "    for x, y in zip(x_data, y_data):\n",
    "        epoch_list.append(num)\n",
    "        num += 1\n",
    "        grad = gradient_ar(x, y)\n",
    "        \n",
    "        # 注！！每一次更新需要用到上次的W值\n",
    "        w = w - 0.01*grad\n",
    "        print('\\t grad', x, y, grad)\n",
    "        \n",
    "        l = loss(x, y)\n",
    "        loss_list.append(l)\n",
    "        \n",
    "    print('progess', epoch, ' w=', w, 'loss', l)\n",
    "print('predict after training', 4, forward(4))"
   ]
  },
  {
   "cell_type": "code",
   "execution_count": 5,
   "id": "f68c013e",
   "metadata": {},
   "outputs": [
    {
     "data": {
      "image/png": "[encoded data removed]",
      "text/plain": [
       "<Figure size 432x288 with 1 Axes>"
      ]
     },
     "metadata": {
      "needs_background": "light"
     },
     "output_type": "display_data"
    }
   ],
   "source": [
    "plt.plot(epoch_list, loss_list)\n",
    "plt.ylabel('Loss')\n",
    "plt.xlabel('epoch')\n",
    "plt.show()"
   ]
  }
 ],
 "metadata": {
  "kernelspec": {
   "display_name": "Python 3 (ipykernel)",
   "language": "python",
   "name": "python3"
  },
  "language_info": {
   "codemirror_mode": {
    "name": "ipython",
    "version": 3
   },
   "file_extension": ".py",
   "mimetype": "text/x-python",
   "name": "python",
   "nbconvert_exporter": "python",
   "pygments_lexer": "ipython3",
   "version": "3.9.7"
  }
 },
 "nbformat": 4,
 "nbformat_minor": 5
}
